{
 "cells": [
  {
   "cell_type": "code",
   "execution_count": 124,
   "metadata": {},
   "outputs": [],
   "source": [
    "import numpy as np\n",
    "import re\n",
    "from scipy.spatial import distance"
   ]
  },
  {
   "cell_type": "code",
   "execution_count": 125,
   "metadata": {},
   "outputs": [
    {
     "name": "stdout",
     "output_type": "stream",
     "text": [
      "[['in', 'comparison', 'to', 'dogs', 'cats', 'have', 'not', 'undergone', 'major', 'changes', 'during', 'the', 'domestication', 'process'], ['as', 'cat', 'simply', 'catenates', 'streams', 'of', 'bytes', 'it', 'can', 'be', 'also', 'used', 'to', 'concatenate', 'binary', 'files', 'where', 'it', 'will', 'just', 'concatenate', 'sequence', 'of', 'bytes']]\n"
     ]
    }
   ],
   "source": [
    "lines = []\n",
    "with open('sentences.txt','r') as file_txt:\n",
    "    while (line := file_txt.readline().lower()):\n",
    "        section_line = re.split('[^a-z]', line)\n",
    "        buffer = []\n",
    "        for word in section_line:\n",
    "            if word == '': continue\n",
    "            buffer.append(word)\n",
    "        lines.append(buffer)\n",
    "print(lines[:2])"
   ]
  },
  {
   "cell_type": "code",
   "execution_count": 126,
   "metadata": {},
   "outputs": [
    {
     "name": "stdout",
     "output_type": "stream",
     "text": [
      "Quantity non repeating words 254\n"
     ]
    }
   ],
   "source": [
    "non_repeating_words = {}\n",
    "for line in lines:\n",
    "    for word in line:\n",
    "        if word not in non_repeating_words:\n",
    "            non_repeating_words[word]=len(non_repeating_words)\n",
    "print('Quantity non repeating words {0}'.format(len(non_repeating_words)))"
   ]
  },
  {
   "cell_type": "code",
   "execution_count": 127,
   "metadata": {},
   "outputs": [
    {
     "name": "stdout",
     "output_type": "stream",
     "text": [
      "(22, 254)\n"
     ]
    }
   ],
   "source": [
    "matrix_words = np.zeros((len(lines),len(non_repeating_words)),dtype=np.int8)\n",
    "print(matrix_words.shape)\n",
    "for index, line in enumerate(lines):\n",
    "    for word in line:\n",
    "        matrix_words[index][non_repeating_words[word]]+=1"
   ]
  },
  {
   "cell_type": "code",
   "execution_count": 128,
   "metadata": {},
   "outputs": [
    {
     "name": "stdout",
     "output_type": "stream",
     "text": [
      "[0.         0.95275444 0.8644738  0.8951715  0.7770887  0.9402386\n",
      " 0.73273873 0.92587507 0.8842725  0.9055089  0.83281654 0.88047713\n",
      " 0.83964324 0.87035924 0.8740118  0.94427216 0.8406362  0.9566445\n",
      " 0.94427216 0.8885444  0.8427573  0.82503647]\n"
     ]
    }
   ],
   "source": [
    "cosine_similarity = np.zeros((len(lines),len(lines)),dtype=np.float32)\n",
    "for i, _ in enumerate(matrix_words):\n",
    "    for j, __ in enumerate(matrix_words):\n",
    "        cosine_similarity[i][j] = distance.cosine(matrix_words[i],matrix_words[j])\n",
    "print(cosine_similarity[0])"
   ]
  },
  {
   "cell_type": "code",
   "execution_count": 129,
   "metadata": {},
   "outputs": [
    {
     "name": "stdout",
     "output_type": "stream",
     "text": [
      "[(0.0, 0), (0.73273873, 6), (0.7770887, 4), (0.82503647, 21), (0.83281654, 10), (0.83964324, 12), (0.8406362, 16), (0.8427573, 20), (0.8644738, 2), (0.87035924, 13), (0.8740118, 14), (0.88047713, 11), (0.8842725, 8), (0.8885444, 19), (0.8951715, 3), (0.9055089, 9), (0.92587507, 7), (0.9402386, 5), (0.94427216, 18), (0.95275444, 1), (0.9566445, 17)]\n"
     ]
    }
   ],
   "source": [
    "cosine_similarity_dict = {}\n",
    "for index, value in enumerate(cosine_similarity[0]):\n",
    "    cosine_similarity_dict[value] = index\n",
    "sorted_similarity = sorted(cosine_similarity_dict.items())\n",
    "print(sorted_similarity)"
   ]
  },
  {
   "cell_type": "code",
   "execution_count": 132,
   "metadata": {},
   "outputs": [
    {
     "name": "stdout",
     "output_type": "stream",
     "text": [
      "6   4\n"
     ]
    }
   ],
   "source": [
    "with open('result.txt','w+') as result:\n",
    "    result.writelines([str(sorted_similarity[1][1]),' ',str(sorted_similarity[2][1])])\n",
    "print(str(sorted_similarity[1][1]),' ',str(sorted_similarity[2][1]))"
   ]
  },
  {
   "attachments": {},
   "cell_type": "markdown",
   "metadata": {},
   "source": [
    "## Ближайшие предложения (6 и 4) близки по тематике"
   ]
  }
 ],
 "metadata": {
  "kernelspec": {
   "display_name": ".venv",
   "language": "python",
   "name": "python3"
  },
  "language_info": {
   "codemirror_mode": {
    "name": "ipython",
    "version": 3
   },
   "file_extension": ".py",
   "mimetype": "text/x-python",
   "name": "python",
   "nbconvert_exporter": "python",
   "pygments_lexer": "ipython3",
   "version": "3.10.2"
  },
  "orig_nbformat": 4,
  "vscode": {
   "interpreter": {
    "hash": "62e0be59e17da4ce7a34401553df0d44fbb8b48ddc54ef2af41870533988a4ea"
   }
  }
 },
 "nbformat": 4,
 "nbformat_minor": 2
}
